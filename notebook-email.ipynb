{
 "cells": [
  {
   "cell_type": "code",
   "execution_count": 1,
   "id": "79336fd8",
   "metadata": {},
   "outputs": [
    {
     "name": "stdout",
     "output_type": "stream",
     "text": [
      "cuda\n",
      "Using device: cuda\n"
     ]
    },
    {
     "name": "stderr",
     "output_type": "stream",
     "text": [
      "Some weights of BertForSequenceClassification were not initialized from the model checkpoint at bert-base-uncased and are newly initialized: ['classifier.bias', 'classifier.weight']\n",
      "You should probably TRAIN this model on a down-stream task to be able to use it for predictions and inference.\n"
     ]
    }
   ],
   "source": [
    "from datasets import load_dataset\n",
    "from transformers import BertTokenizer, BertForSequenceClassification, Trainer, TrainingArguments\n",
    "from sklearn.model_selection import train_test_split\n",
    "import torch\n",
    "import numpy as np\n",
    "from sklearn.metrics import accuracy_score\n",
    "\n",
    "device = torch.device(\"cuda\" if torch.cuda.is_available() else \"cpu\")\n",
    "print(device)\n",
    "print(f\"Using device: {device}\")\n",
    "\n",
    "# Function to compute accuracy\n",
    "def compute_metrics(pred):\n",
    "    labels = pred.label_ids\n",
    "    preds = np.argmax(pred.predictions, axis=-1)\n",
    "    acc = accuracy_score(labels, preds)\n",
    "    return {\"accuracy\": acc}\n",
    "\n",
    "# Load and preprocess the AESLC dataset\n",
    "def load_and_preprocess_dataset():\n",
    "    dataset = load_dataset(\"aeslc\", split='train')\n",
    "    emails = [item['email_body'] for item in dataset]\n",
    "    labels = [1 if item['subject_line'] else 0 for item in dataset]\n",
    "    return emails, labels\n",
    "\n",
    "emails, labels = load_and_preprocess_dataset()\n",
    "\n",
    "# Splitting the dataset into training and validation sets\n",
    "train_emails, val_emails, train_labels, val_labels = train_test_split(emails, labels, test_size=0.3)\n",
    "\n",
    "# Tokenization\n",
    "tokenizer = BertTokenizer.from_pretrained(\"bert-base-uncased\")\n",
    "\n",
    "train_encodings = tokenizer(train_emails, truncation=True, padding=True, max_length=512)\n",
    "val_encodings = tokenizer(val_emails, truncation=True, padding=True, max_length=512)\n",
    "\n",
    "# Custom dataset class\n",
    "class EmailDataset(torch.utils.data.Dataset):\n",
    "    def __init__(self, encodings, labels):\n",
    "        self.encodings = encodings\n",
    "        self.labels = labels\n",
    "\n",
    "    def __getitem__(self, idx):\n",
    "        item = {key: torch.tensor(val[idx]) for key, val in self.encodings.items()}\n",
    "        item['labels'] = torch.tensor(self.labels[idx])\n",
    "        return item\n",
    "\n",
    "    def __len__(self):\n",
    "        return len(self.labels)\n",
    "\n",
    "train_dataset = EmailDataset(train_encodings, train_labels)\n",
    "val_dataset = EmailDataset(val_encodings, val_labels)\n",
    "\n",
    "# Load pre-trained model\n",
    "model = BertForSequenceClassification.from_pretrained(\"bert-base-uncased\", num_labels=2)\n",
    "\n",
    "# Training arguments\n",
    "training_args = TrainingArguments(\n",
    "    output_dir='./results',\n",
    "    num_train_epochs=1,\n",
    "    per_device_train_batch_size=8,\n",
    "    per_device_eval_batch_size=8,\n",
    "    warmup_steps=500,\n",
    "    weight_decay=0.01,\n",
    "    logging_dir='./logs',\n",
    "    logging_steps=10,\n",
    "    evaluation_strategy=\"epoch\"\n",
    ")\n",
    "\n",
    "# Initialize Trainer\n",
    "trainer = Trainer(\n",
    "    model=model,\n",
    "    args=training_args,\n",
    "    train_dataset=train_dataset,\n",
    "    eval_dataset=val_dataset,\n",
    "    compute_metrics=compute_metrics\n",
    ")\n",
    "\n"
   ]
  },
  {
   "cell_type": "code",
   "execution_count": 2,
   "id": "49e0326d",
   "metadata": {},
   "outputs": [
    {
     "data": {
      "text/html": [
       "\n",
       "    <div>\n",
       "      \n",
       "      <progress value='1264' max='1264' style='width:300px; height:20px; vertical-align: middle;'></progress>\n",
       "      [1264/1264 13:20, Epoch 1/1]\n",
       "    </div>\n",
       "    <table border=\"1\" class=\"dataframe\">\n",
       "  <thead>\n",
       " <tr style=\"text-align: left;\">\n",
       "      <th>Epoch</th>\n",
       "      <th>Training Loss</th>\n",
       "      <th>Validation Loss</th>\n",
       "      <th>Accuracy</th>\n",
       "    </tr>\n",
       "  </thead>\n",
       "  <tbody>\n",
       "    <tr>\n",
       "      <td>1</td>\n",
       "      <td>0.000000</td>\n",
       "      <td>0.000019</td>\n",
       "      <td>1.000000</td>\n",
       "    </tr>\n",
       "  </tbody>\n",
       "</table><p>"
      ],
      "text/plain": [
       "<IPython.core.display.HTML object>"
      ]
     },
     "metadata": {},
     "output_type": "display_data"
    }
   ],
   "source": [
    "# Train the model\n",
    "trainer.train()\n",
    "\n",
    "# Save the model\n",
    "model.save_pretrained(\"./bert_email_classifier\")\n"
   ]
  },
  {
   "cell_type": "code",
   "execution_count": 3,
   "id": "719eb44a-1bab-483f-9f90-8e5dad1b5cbe",
   "metadata": {},
   "outputs": [
    {
     "data": {
      "text/html": [
       "\n",
       "    <div>\n",
       "      \n",
       "      <progress value='542' max='542' style='width:300px; height:20px; vertical-align: middle;'></progress>\n",
       "      [542/542 01:39]\n",
       "    </div>\n",
       "    "
      ],
      "text/plain": [
       "<IPython.core.display.HTML object>"
      ]
     },
     "metadata": {},
     "output_type": "display_data"
    },
    {
     "name": "stdout",
     "output_type": "stream",
     "text": [
      "{'eval_loss': 1.893995067803189e-05, 'eval_accuracy': 1.0, 'eval_runtime': 99.3346, 'eval_samples_per_second': 43.6, 'eval_steps_per_second': 5.456, 'epoch': 1.0}\n"
     ]
    }
   ],
   "source": [
    "# Evaluate the model\n",
    "evaluation_results = trainer.evaluate()\n",
    "\n",
    "# Print evaluation results\n",
    "print(evaluation_results)"
   ]
  },
  {
   "cell_type": "code",
   "execution_count": 1,
   "id": "2d64d4fa",
   "metadata": {},
   "outputs": [
    {
     "data": {
      "text/plain": [
       "BertForSequenceClassification(\n",
       "  (bert): BertModel(\n",
       "    (embeddings): BertEmbeddings(\n",
       "      (word_embeddings): Embedding(30522, 768, padding_idx=0)\n",
       "      (position_embeddings): Embedding(512, 768)\n",
       "      (token_type_embeddings): Embedding(2, 768)\n",
       "      (LayerNorm): LayerNorm((768,), eps=1e-12, elementwise_affine=True)\n",
       "      (dropout): Dropout(p=0.1, inplace=False)\n",
       "    )\n",
       "    (encoder): BertEncoder(\n",
       "      (layer): ModuleList(\n",
       "        (0-11): 12 x BertLayer(\n",
       "          (attention): BertAttention(\n",
       "            (self): BertSelfAttention(\n",
       "              (query): Linear(in_features=768, out_features=768, bias=True)\n",
       "              (key): Linear(in_features=768, out_features=768, bias=True)\n",
       "              (value): Linear(in_features=768, out_features=768, bias=True)\n",
       "              (dropout): Dropout(p=0.1, inplace=False)\n",
       "            )\n",
       "            (output): BertSelfOutput(\n",
       "              (dense): Linear(in_features=768, out_features=768, bias=True)\n",
       "              (LayerNorm): LayerNorm((768,), eps=1e-12, elementwise_affine=True)\n",
       "              (dropout): Dropout(p=0.1, inplace=False)\n",
       "            )\n",
       "          )\n",
       "          (intermediate): BertIntermediate(\n",
       "            (dense): Linear(in_features=768, out_features=3072, bias=True)\n",
       "            (intermediate_act_fn): GELUActivation()\n",
       "          )\n",
       "          (output): BertOutput(\n",
       "            (dense): Linear(in_features=3072, out_features=768, bias=True)\n",
       "            (LayerNorm): LayerNorm((768,), eps=1e-12, elementwise_affine=True)\n",
       "            (dropout): Dropout(p=0.1, inplace=False)\n",
       "          )\n",
       "        )\n",
       "      )\n",
       "    )\n",
       "    (pooler): BertPooler(\n",
       "      (dense): Linear(in_features=768, out_features=768, bias=True)\n",
       "      (activation): Tanh()\n",
       "    )\n",
       "  )\n",
       "  (dropout): Dropout(p=0.1, inplace=False)\n",
       "  (classifier): Linear(in_features=768, out_features=2, bias=True)\n",
       ")"
      ]
     },
     "execution_count": 1,
     "metadata": {},
     "output_type": "execute_result"
    }
   ],
   "source": [
    "from transformers import BertTokenizer, BertForSequenceClassification\n",
    "import torch\n",
    "\n",
    "# Load the trained model\n",
    "model_path = \"./bert_email_classifier\"  # Adjust path if necessary\n",
    "model = BertForSequenceClassification.from_pretrained(model_path)\n",
    "tokenizer = BertTokenizer.from_pretrained(\"bert-base-uncased\")\n",
    "\n",
    "# Prepare the device\n",
    "device = torch.device(\"cuda\" if torch.cuda.is_available() else \"cpu\")\n",
    "model.to(device)\n",
    "\n",
    "\n"
   ]
  },
  {
   "cell_type": "code",
   "execution_count": 9,
   "id": "18048626-7300-4438-bbc7-e826d9295546",
   "metadata": {},
   "outputs": [
    {
     "name": "stdout",
     "output_type": "stream",
     "text": [
      "[{'label': 'LABEL_1', 'score': 0.9999772310256958}]\n"
     ]
    }
   ],
   "source": [
    "from transformers import pipeline, BertTokenizer, BertForSequenceClassification\n",
    "\n",
    "# Load the saved model and tokenizer\n",
    "model_path = \"./bert_email_classifier\"  # Adjust path if necessary\n",
    "model = BertForSequenceClassification.from_pretrained(model_path)\n",
    "tokenizer = BertTokenizer.from_pretrained(\"bert-base-uncased\")\n",
    "\n",
    "# Create a text classification pipeline\n",
    "text_classifier = pipeline(\"text-classification\", model=model, tokenizer=tokenizer)\n",
    "\n",
    "# Example email\n",
    "example_email = \"Dear customer, your order has been shipped. Thank you for shopping with us!\"\n",
    "\n",
    "# Use the pipeline for prediction\n",
    "result = text_classifier(example_email)\n",
    "\n",
    "# Display the result\n",
    "print(result)\n"
   ]
  },
  {
   "cell_type": "code",
   "execution_count": 5,
   "id": "fb367f61",
   "metadata": {},
   "outputs": [
    {
     "name": "stdout",
     "output_type": "stream",
     "text": [
      "The email was classified as: 1\n"
     ]
    }
   ],
   "source": [
    "# Example email\n",
    "example_email = \"Ijasklfjklsda klsajlkdf\"\n",
    "\n",
    "# Tokenize the email\n",
    "inputs = tokenizer(example_email, padding=True, truncation=True, max_length=512, return_tensors=\"pt\")\n",
    "\n",
    "# Move inputs to the same device as model\n",
    "inputs = {k: v.to(device) for k, v in inputs.items()}\n",
    "\n",
    "# Predict\n",
    "model.eval()\n",
    "with torch.no_grad():\n",
    "    outputs = model(**inputs)\n",
    "    predictions = torch.argmax(outputs.logits, dim=-1)\n",
    "\n",
    "# Interpret the prediction\n",
    "predicted_class = predictions.item()\n",
    "class_names = [\"No Subject\", \"Has Subject\"]  # Adjust based on your labeling\n",
    "print(f\"The email was classified as: {predicted_class}\")"
   ]
  },
  {
   "cell_type": "code",
   "execution_count": null,
   "id": "63e680f7-f563-4b24-adab-c41196cfb9ca",
   "metadata": {},
   "outputs": [],
   "source": []
  },
  {
   "cell_type": "code",
   "execution_count": null,
   "id": "9448a537-5af8-4501-976a-c9b0b9e47124",
   "metadata": {},
   "outputs": [],
   "source": []
  },
  {
   "cell_type": "code",
   "execution_count": null,
   "id": "7600dfe7-0da0-4156-beda-13c8f04fe03f",
   "metadata": {},
   "outputs": [],
   "source": []
  },
  {
   "cell_type": "code",
   "execution_count": 20,
   "id": "6f432bc0-d1c2-4864-8bf1-06dfd30c3a94",
   "metadata": {},
   "outputs": [],
   "source": [
    "email1 = '''From: example_sender@example.com\n",
    "To: example_receiver@example.com\n",
    "Subject: Meeting Schedule Update\n",
    "Content-Type: text/html; charset=\"UTF-8\"\n",
    "\n",
    "<html>\n",
    "<body>\n",
    "<p>Hello Team,</p>\n",
    "\n",
    "<p>Please note that the <b>weekly meeting</b> has been rescheduled to <i>Friday, 3 PM</i>.</p>\n",
    "\n",
    "<p>Best Regards,</p>\n",
    "<p>John Doe<br>\n",
    "Project Manager<br>\n",
    "example_company@example.com<br>\n",
    "\"Excellence is our motto!\"<br>\n",
    "</p>\n",
    "\n",
    "<p><small>This email may contain confidential information and is intended only for the use of the individual to whom it is addressed. If you are not the intended recipient, you are hereby notified that any dissemination of this communication is strictly prohibited.</small></p>\n",
    "</body>\n",
    "</html>\n",
    "'''"
   ]
  },
  {
   "cell_type": "code",
   "execution_count": 21,
   "id": "e2d122f9-a09b-434b-bde7-ebcce73d04ed",
   "metadata": {},
   "outputs": [],
   "source": [
    "email2 = '''From: notify@newsletters.com\n",
    "To: example_receiver@example.com\n",
    "Subject: Your Weekly Tech News Digest\n",
    "Content-Type: text/plain\n",
    "\n",
    "Hi there,\n",
    "\n",
    "Here's your latest tech news:\n",
    "- Tech Corp announces new innovation.\n",
    "- The future of AI: An expert's perspective.\n",
    "\n",
    "Subscribe for more updates at our website www.technews.com.\n",
    "\n",
    "Cheers,\n",
    "Tech News Team\n",
    "\n",
    "----------------------------------------\n",
    "To unsubscribe from these emails, click here.\n",
    "----------------------------------------\n",
    "Note: This email might contain advertisements.\n",
    "'''"
   ]
  },
  {
   "cell_type": "code",
   "execution_count": 24,
   "id": "073abb75-95ab-4d27-8e37-57e07a0826e4",
   "metadata": {},
   "outputs": [
    {
     "name": "stdout",
     "output_type": "stream",
     "text": [
      "\n",
      "\n",
      "Hello Team,\n",
      "Please note that the weekly meeting has been rescheduled to Friday, 3 PM.\n",
      "Best Regards,\n",
      "John Doe\n",
      "Project Manager\n",
      "example_company@example.com\n",
      "\"Excellence is our motto!\"\n",
      "\n",
      "This email may contain confidential information and is intended only for the use of the individual to whom it is addressed. If you are not the intended recipient, you are hereby notified that any dissemination of this communication is strictly prohibited.\n",
      "\n",
      "\n",
      "\n",
      "Hi there,\n",
      "\n",
      "Here's your latest tech news:\n",
      "- Tech Corp announces new innovation.\n",
      "- The future of AI: An expert's perspective.\n",
      "\n",
      "Subscribe for more updates at our website www.technews.com.\n",
      "\n",
      "Cheers,\n",
      "Tech News Team\n",
      "\n",
      "----------------------------------------\n",
      "To unsubscribe from these emails, click here.\n",
      "----------------------------------------\n",
      "Note: This email might contain advertisements.\n",
      "\n",
      "################################################\n",
      "\n",
      "\n",
      "\n",
      "\n",
      "Extracted Text from Email 1:\n",
      " Hello Team,\n",
      "Please note that the weekly meeting has been rescheduled to Friday, 3 PM.\n",
      "Best Regards,\n",
      "John Doe\n",
      "Project Manager\n",
      "example_company@example.com\n",
      "\"Excellence is our motto!\"\n",
      "This email may contain confidential information and is intended only for the use of the individual to whom it is addressed. If you are not the intended recipient, you are hereby notified that any dissemination of this communication is strictly prohibited.\n"
     ]
    }
   ],
   "source": [
    "import email\n",
    "from bs4 import BeautifulSoup\n",
    "import re\n",
    "\n",
    "# Define the example emails\n",
    "\n",
    "\n",
    "\n",
    "def extract_text_from_email(raw_email):\n",
    "    # Parse the email content\n",
    "    msg = email.message_from_string(raw_email)\n",
    "\n",
    "    \n",
    "    # Extract content type\n",
    "    content_type = msg.get_content_type()\n",
    "    text = \"\"\n",
    "\n",
    "    if content_type == \"text/plain\":\n",
    "        text = msg.get_payload()\n",
    "    elif content_type == \"text/html\":\n",
    "        html = msg.get_payload()\n",
    "        soup = BeautifulSoup(html, \"html.parser\")\n",
    "        text = soup.get_text()\n",
    "\n",
    "    print(text)\n",
    "    # Remove unnecessary data like signatures, disclaimers, etc.\n",
    "    text = re.sub(r'--[\\s\\S]*?--', '', text)  # Remove lines between dashes (common in signatures)\n",
    "    text = re.sub(r'\\n+', '\\n', text)  # Remove multiple line breaks\n",
    "    text = text.strip()  # Remove leading/trailing white spaces\n",
    "\n",
    "    return text\n",
    "\n",
    "# Extract text from the emails\n",
    "extracted_text_1 = extract_text_from_email(email1)\n",
    "extracted_text_2 = extract_text_from_email(email2)\n",
    "print(\"################################################\\n\\n\\n\\n\")\n",
    "print(\"Extracted Text from Email 1:\\n\", extracted_text_1)\n",
    "#print(\"\\nExtracted Text from Email 2:\\n\", extracted_text_2)\n"
   ]
  },
  {
   "cell_type": "code",
   "execution_count": null,
   "id": "ef73370e-3652-4422-b303-e8fd4904c88b",
   "metadata": {},
   "outputs": [],
   "source": []
  }
 ],
 "metadata": {
  "kernelspec": {
   "display_name": "Python (myenv)",
   "language": "python",
   "name": "myenv"
  },
  "language_info": {
   "codemirror_mode": {
    "name": "ipython",
    "version": 3
   },
   "file_extension": ".py",
   "mimetype": "text/x-python",
   "name": "python",
   "nbconvert_exporter": "python",
   "pygments_lexer": "ipython3",
   "version": "3.10.12"
  }
 },
 "nbformat": 4,
 "nbformat_minor": 5
}
