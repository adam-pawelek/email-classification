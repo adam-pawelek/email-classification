{
 "cells": [
  {
   "cell_type": "code",
   "execution_count": 1,
   "id": "ebcc0341-065d-42b4-9626-da80c8fb1c4a",
   "metadata": {},
   "outputs": [],
   "source": [
    "from datasets import load_dataset, DatasetDict, Dataset\n",
    "from transformers import AutoTokenizer, AutoModelForSequenceClassification, TrainingArguments, Trainer\n",
    "import pandas as pd\n",
    "\n",
    "# Load your dataset (replace 'your_dataset.csv' with your dataset file)\n",
    "df = pd.read_csv('concatenated.csv')\n",
    "df.rename(columns={'text': 'text'}, inplace=True)"
   ]
  },
  {
   "cell_type": "code",
   "execution_count": 2,
   "id": "76765299-fa96-40c2-ab8f-7691cb12cd97",
   "metadata": {},
   "outputs": [
    {
     "data": {
      "text/html": [
       "<div>\n",
       "<style scoped>\n",
       "    .dataframe tbody tr th:only-of-type {\n",
       "        vertical-align: middle;\n",
       "    }\n",
       "\n",
       "    .dataframe tbody tr th {\n",
       "        vertical-align: top;\n",
       "    }\n",
       "\n",
       "    .dataframe thead th {\n",
       "        text-align: right;\n",
       "    }\n",
       "</style>\n",
       "<table border=\"1\" class=\"dataframe\">\n",
       "  <thead>\n",
       "    <tr style=\"text-align: right;\">\n",
       "      <th></th>\n",
       "      <th>id</th>\n",
       "      <th>prompt_id</th>\n",
       "      <th>text</th>\n",
       "      <th>generated</th>\n",
       "      <th>model</th>\n",
       "      <th>kaggle_repo</th>\n",
       "    </tr>\n",
       "  </thead>\n",
       "  <tbody>\n",
       "    <tr>\n",
       "      <th>0</th>\n",
       "      <td>d429f032</td>\n",
       "      <td>0</td>\n",
       "      <td>Advantages of Limiting Car Usage \\n\\nLimiting ...</td>\n",
       "      <td>1</td>\n",
       "      <td>gpt-3.5-turbo</td>\n",
       "      <td>1</td>\n",
       "    </tr>\n",
       "    <tr>\n",
       "      <th>1</th>\n",
       "      <td>1ce279be</td>\n",
       "      <td>0</td>\n",
       "      <td>Advantages of Limiting Car Usage\\n\\nLimiting c...</td>\n",
       "      <td>1</td>\n",
       "      <td>gpt-3.5-turbo</td>\n",
       "      <td>1</td>\n",
       "    </tr>\n",
       "    <tr>\n",
       "      <th>2</th>\n",
       "      <td>c9595213</td>\n",
       "      <td>0</td>\n",
       "      <td>Limiting car usage has numerous advantages tha...</td>\n",
       "      <td>1</td>\n",
       "      <td>gpt-3.5-turbo</td>\n",
       "      <td>1</td>\n",
       "    </tr>\n",
       "    <tr>\n",
       "      <th>3</th>\n",
       "      <td>f2266d87</td>\n",
       "      <td>0</td>\n",
       "      <td>The passages provided discuss the advantages o...</td>\n",
       "      <td>1</td>\n",
       "      <td>gpt-3.5-turbo</td>\n",
       "      <td>1</td>\n",
       "    </tr>\n",
       "    <tr>\n",
       "      <th>4</th>\n",
       "      <td>eeace4bd</td>\n",
       "      <td>0</td>\n",
       "      <td>Title: The Advantages of Limiting Car Usage\\n\\...</td>\n",
       "      <td>1</td>\n",
       "      <td>gpt-3.5-turbo</td>\n",
       "      <td>1</td>\n",
       "    </tr>\n",
       "    <tr>\n",
       "      <th>...</th>\n",
       "      <td>...</td>\n",
       "      <td>...</td>\n",
       "      <td>...</td>\n",
       "      <td>...</td>\n",
       "      <td>...</td>\n",
       "      <td>...</td>\n",
       "    </tr>\n",
       "    <tr>\n",
       "      <th>54686</th>\n",
       "      <td>df8bf6e6-eca4-417c-bce2-b3b90d782d93</td>\n",
       "      <td>-1</td>\n",
       "      <td>I believe using cellphones in class for educat...</td>\n",
       "      <td>0</td>\n",
       "      <td>human</td>\n",
       "      <td>9</td>\n",
       "    </tr>\n",
       "    <tr>\n",
       "      <th>54687</th>\n",
       "      <td>502c11ac-7d0a-4b11-8572-5f7317364bc7</td>\n",
       "      <td>-1</td>\n",
       "      <td>Working alone, students do not have to argue w...</td>\n",
       "      <td>0</td>\n",
       "      <td>human</td>\n",
       "      <td>9</td>\n",
       "    </tr>\n",
       "    <tr>\n",
       "      <th>54688</th>\n",
       "      <td>993f33f3-0cfa-4b5a-b382-bdf7f82e2666</td>\n",
       "      <td>-1</td>\n",
       "      <td>\"A problem is a chance for you to do your best...</td>\n",
       "      <td>0</td>\n",
       "      <td>human</td>\n",
       "      <td>9</td>\n",
       "    </tr>\n",
       "    <tr>\n",
       "      <th>54689</th>\n",
       "      <td>0f9f0196-4828-4122-b0cb-aea2373066fb</td>\n",
       "      <td>-1</td>\n",
       "      <td>Many people disagree with Albert Schweitzer's ...</td>\n",
       "      <td>0</td>\n",
       "      <td>human</td>\n",
       "      <td>9</td>\n",
       "    </tr>\n",
       "    <tr>\n",
       "      <th>54690</th>\n",
       "      <td>75bb5685-f6ca-43d0-9364-bfa3d5977eab</td>\n",
       "      <td>-1</td>\n",
       "      <td>Do you think that failure is the main thing fo...</td>\n",
       "      <td>0</td>\n",
       "      <td>human</td>\n",
       "      <td>9</td>\n",
       "    </tr>\n",
       "  </tbody>\n",
       "</table>\n",
       "<p>54691 rows × 6 columns</p>\n",
       "</div>"
      ],
      "text/plain": [
       "                                         id prompt_id  \\\n",
       "0                                  d429f032         0   \n",
       "1                                  1ce279be         0   \n",
       "2                                  c9595213         0   \n",
       "3                                  f2266d87         0   \n",
       "4                                  eeace4bd         0   \n",
       "...                                     ...       ...   \n",
       "54686  df8bf6e6-eca4-417c-bce2-b3b90d782d93        -1   \n",
       "54687  502c11ac-7d0a-4b11-8572-5f7317364bc7        -1   \n",
       "54688  993f33f3-0cfa-4b5a-b382-bdf7f82e2666        -1   \n",
       "54689  0f9f0196-4828-4122-b0cb-aea2373066fb        -1   \n",
       "54690  75bb5685-f6ca-43d0-9364-bfa3d5977eab        -1   \n",
       "\n",
       "                                                    text  generated  \\\n",
       "0      Advantages of Limiting Car Usage \\n\\nLimiting ...          1   \n",
       "1      Advantages of Limiting Car Usage\\n\\nLimiting c...          1   \n",
       "2      Limiting car usage has numerous advantages tha...          1   \n",
       "3      The passages provided discuss the advantages o...          1   \n",
       "4      Title: The Advantages of Limiting Car Usage\\n\\...          1   \n",
       "...                                                  ...        ...   \n",
       "54686  I believe using cellphones in class for educat...          0   \n",
       "54687  Working alone, students do not have to argue w...          0   \n",
       "54688  \"A problem is a chance for you to do your best...          0   \n",
       "54689  Many people disagree with Albert Schweitzer's ...          0   \n",
       "54690  Do you think that failure is the main thing fo...          0   \n",
       "\n",
       "               model  kaggle_repo  \n",
       "0      gpt-3.5-turbo            1  \n",
       "1      gpt-3.5-turbo            1  \n",
       "2      gpt-3.5-turbo            1  \n",
       "3      gpt-3.5-turbo            1  \n",
       "4      gpt-3.5-turbo            1  \n",
       "...              ...          ...  \n",
       "54686          human            9  \n",
       "54687          human            9  \n",
       "54688          human            9  \n",
       "54689          human            9  \n",
       "54690          human            9  \n",
       "\n",
       "[54691 rows x 6 columns]"
      ]
     },
     "execution_count": 2,
     "metadata": {},
     "output_type": "execute_result"
    }
   ],
   "source": [
    "df"
   ]
  },
  {
   "cell_type": "code",
   "execution_count": 3,
   "id": "d90f73ba-7a31-49a2-98b9-77a288a1451f",
   "metadata": {},
   "outputs": [
    {
     "data": {
      "text/plain": [
       "'gpt-3.5-turbo'"
      ]
     },
     "execution_count": 3,
     "metadata": {},
     "output_type": "execute_result"
    }
   ],
   "source": [
    "df[\"model\"][6002]"
   ]
  },
  {
   "cell_type": "code",
   "execution_count": null,
   "id": "ae391107-9806-4c99-99c9-061cca3cd8ac",
   "metadata": {},
   "outputs": [],
   "source": []
  },
  {
   "cell_type": "code",
   "execution_count": 4,
   "id": "85562d1b-c978-423c-83de-7607c69754fb",
   "metadata": {},
   "outputs": [],
   "source": [
    "unique_models =  list(df[\"model\"].unique())"
   ]
  },
  {
   "cell_type": "code",
   "execution_count": 5,
   "id": "5be2c65c-51e6-4601-b238-3c9f8b925f31",
   "metadata": {},
   "outputs": [
    {
     "data": {
      "text/plain": [
       "['gpt-3.5-turbo',\n",
       " 'gpt-4',\n",
       " 'unknown',\n",
       " 'falcon-180b',\n",
       " 'llama-70b',\n",
       " 'llama-falcon',\n",
       " 'palm-2',\n",
       " 'claude',\n",
       " 'human',\n",
       " 'mistral']"
      ]
     },
     "execution_count": 5,
     "metadata": {},
     "output_type": "execute_result"
    }
   ],
   "source": [
    "unique_models"
   ]
  },
  {
   "cell_type": "code",
   "execution_count": 6,
   "id": "29251e85-ff1c-4010-a04f-ae39cdd91027",
   "metadata": {},
   "outputs": [],
   "source": [
    "def create_label(category): #0 spam 1 ham\n",
    "    return unique_models.index(category)\n",
    "\n",
    "df['label'] = df['model'].apply(create_label)"
   ]
  },
  {
   "cell_type": "code",
   "execution_count": 7,
   "id": "2dc6f736-7f18-4b40-9c75-400a5cbbad49",
   "metadata": {},
   "outputs": [
    {
     "data": {
      "text/html": [
       "<div>\n",
       "<style scoped>\n",
       "    .dataframe tbody tr th:only-of-type {\n",
       "        vertical-align: middle;\n",
       "    }\n",
       "\n",
       "    .dataframe tbody tr th {\n",
       "        vertical-align: top;\n",
       "    }\n",
       "\n",
       "    .dataframe thead th {\n",
       "        text-align: right;\n",
       "    }\n",
       "</style>\n",
       "<table border=\"1\" class=\"dataframe\">\n",
       "  <thead>\n",
       "    <tr style=\"text-align: right;\">\n",
       "      <th></th>\n",
       "      <th>id</th>\n",
       "      <th>prompt_id</th>\n",
       "      <th>text</th>\n",
       "      <th>generated</th>\n",
       "      <th>model</th>\n",
       "      <th>kaggle_repo</th>\n",
       "      <th>label</th>\n",
       "    </tr>\n",
       "  </thead>\n",
       "  <tbody>\n",
       "    <tr>\n",
       "      <th>0</th>\n",
       "      <td>d429f032</td>\n",
       "      <td>0</td>\n",
       "      <td>Advantages of Limiting Car Usage \\n\\nLimiting ...</td>\n",
       "      <td>1</td>\n",
       "      <td>gpt-3.5-turbo</td>\n",
       "      <td>1</td>\n",
       "      <td>0</td>\n",
       "    </tr>\n",
       "    <tr>\n",
       "      <th>1</th>\n",
       "      <td>1ce279be</td>\n",
       "      <td>0</td>\n",
       "      <td>Advantages of Limiting Car Usage\\n\\nLimiting c...</td>\n",
       "      <td>1</td>\n",
       "      <td>gpt-3.5-turbo</td>\n",
       "      <td>1</td>\n",
       "      <td>0</td>\n",
       "    </tr>\n",
       "    <tr>\n",
       "      <th>2</th>\n",
       "      <td>c9595213</td>\n",
       "      <td>0</td>\n",
       "      <td>Limiting car usage has numerous advantages tha...</td>\n",
       "      <td>1</td>\n",
       "      <td>gpt-3.5-turbo</td>\n",
       "      <td>1</td>\n",
       "      <td>0</td>\n",
       "    </tr>\n",
       "    <tr>\n",
       "      <th>3</th>\n",
       "      <td>f2266d87</td>\n",
       "      <td>0</td>\n",
       "      <td>The passages provided discuss the advantages o...</td>\n",
       "      <td>1</td>\n",
       "      <td>gpt-3.5-turbo</td>\n",
       "      <td>1</td>\n",
       "      <td>0</td>\n",
       "    </tr>\n",
       "    <tr>\n",
       "      <th>4</th>\n",
       "      <td>eeace4bd</td>\n",
       "      <td>0</td>\n",
       "      <td>Title: The Advantages of Limiting Car Usage\\n\\...</td>\n",
       "      <td>1</td>\n",
       "      <td>gpt-3.5-turbo</td>\n",
       "      <td>1</td>\n",
       "      <td>0</td>\n",
       "    </tr>\n",
       "    <tr>\n",
       "      <th>...</th>\n",
       "      <td>...</td>\n",
       "      <td>...</td>\n",
       "      <td>...</td>\n",
       "      <td>...</td>\n",
       "      <td>...</td>\n",
       "      <td>...</td>\n",
       "      <td>...</td>\n",
       "    </tr>\n",
       "    <tr>\n",
       "      <th>54686</th>\n",
       "      <td>df8bf6e6-eca4-417c-bce2-b3b90d782d93</td>\n",
       "      <td>-1</td>\n",
       "      <td>I believe using cellphones in class for educat...</td>\n",
       "      <td>0</td>\n",
       "      <td>human</td>\n",
       "      <td>9</td>\n",
       "      <td>8</td>\n",
       "    </tr>\n",
       "    <tr>\n",
       "      <th>54687</th>\n",
       "      <td>502c11ac-7d0a-4b11-8572-5f7317364bc7</td>\n",
       "      <td>-1</td>\n",
       "      <td>Working alone, students do not have to argue w...</td>\n",
       "      <td>0</td>\n",
       "      <td>human</td>\n",
       "      <td>9</td>\n",
       "      <td>8</td>\n",
       "    </tr>\n",
       "    <tr>\n",
       "      <th>54688</th>\n",
       "      <td>993f33f3-0cfa-4b5a-b382-bdf7f82e2666</td>\n",
       "      <td>-1</td>\n",
       "      <td>\"A problem is a chance for you to do your best...</td>\n",
       "      <td>0</td>\n",
       "      <td>human</td>\n",
       "      <td>9</td>\n",
       "      <td>8</td>\n",
       "    </tr>\n",
       "    <tr>\n",
       "      <th>54689</th>\n",
       "      <td>0f9f0196-4828-4122-b0cb-aea2373066fb</td>\n",
       "      <td>-1</td>\n",
       "      <td>Many people disagree with Albert Schweitzer's ...</td>\n",
       "      <td>0</td>\n",
       "      <td>human</td>\n",
       "      <td>9</td>\n",
       "      <td>8</td>\n",
       "    </tr>\n",
       "    <tr>\n",
       "      <th>54690</th>\n",
       "      <td>75bb5685-f6ca-43d0-9364-bfa3d5977eab</td>\n",
       "      <td>-1</td>\n",
       "      <td>Do you think that failure is the main thing fo...</td>\n",
       "      <td>0</td>\n",
       "      <td>human</td>\n",
       "      <td>9</td>\n",
       "      <td>8</td>\n",
       "    </tr>\n",
       "  </tbody>\n",
       "</table>\n",
       "<p>54691 rows × 7 columns</p>\n",
       "</div>"
      ],
      "text/plain": [
       "                                         id prompt_id  \\\n",
       "0                                  d429f032         0   \n",
       "1                                  1ce279be         0   \n",
       "2                                  c9595213         0   \n",
       "3                                  f2266d87         0   \n",
       "4                                  eeace4bd         0   \n",
       "...                                     ...       ...   \n",
       "54686  df8bf6e6-eca4-417c-bce2-b3b90d782d93        -1   \n",
       "54687  502c11ac-7d0a-4b11-8572-5f7317364bc7        -1   \n",
       "54688  993f33f3-0cfa-4b5a-b382-bdf7f82e2666        -1   \n",
       "54689  0f9f0196-4828-4122-b0cb-aea2373066fb        -1   \n",
       "54690  75bb5685-f6ca-43d0-9364-bfa3d5977eab        -1   \n",
       "\n",
       "                                                    text  generated  \\\n",
       "0      Advantages of Limiting Car Usage \\n\\nLimiting ...          1   \n",
       "1      Advantages of Limiting Car Usage\\n\\nLimiting c...          1   \n",
       "2      Limiting car usage has numerous advantages tha...          1   \n",
       "3      The passages provided discuss the advantages o...          1   \n",
       "4      Title: The Advantages of Limiting Car Usage\\n\\...          1   \n",
       "...                                                  ...        ...   \n",
       "54686  I believe using cellphones in class for educat...          0   \n",
       "54687  Working alone, students do not have to argue w...          0   \n",
       "54688  \"A problem is a chance for you to do your best...          0   \n",
       "54689  Many people disagree with Albert Schweitzer's ...          0   \n",
       "54690  Do you think that failure is the main thing fo...          0   \n",
       "\n",
       "               model  kaggle_repo  label  \n",
       "0      gpt-3.5-turbo            1      0  \n",
       "1      gpt-3.5-turbo            1      0  \n",
       "2      gpt-3.5-turbo            1      0  \n",
       "3      gpt-3.5-turbo            1      0  \n",
       "4      gpt-3.5-turbo            1      0  \n",
       "...              ...          ...    ...  \n",
       "54686          human            9      8  \n",
       "54687          human            9      8  \n",
       "54688          human            9      8  \n",
       "54689          human            9      8  \n",
       "54690          human            9      8  \n",
       "\n",
       "[54691 rows x 7 columns]"
      ]
     },
     "execution_count": 7,
     "metadata": {},
     "output_type": "execute_result"
    }
   ],
   "source": [
    "df"
   ]
  },
  {
   "cell_type": "code",
   "execution_count": 8,
   "id": "41cc443b-fabb-443a-8f42-ad7a99eec0ed",
   "metadata": {},
   "outputs": [
    {
     "data": {
      "text/plain": [
       "'gpt-3.5-turbo'"
      ]
     },
     "execution_count": 8,
     "metadata": {},
     "output_type": "execute_result"
    }
   ],
   "source": [
    "df[\"model\"][6002]"
   ]
  },
  {
   "cell_type": "code",
   "execution_count": 9,
   "id": "e1140d94-2dba-414f-a573-c99f32889936",
   "metadata": {},
   "outputs": [
    {
     "data": {
      "text/plain": [
       "0"
      ]
     },
     "execution_count": 9,
     "metadata": {},
     "output_type": "execute_result"
    }
   ],
   "source": [
    "df[\"label\"][6002]"
   ]
  },
  {
   "cell_type": "code",
   "execution_count": 10,
   "id": "a1e2d9e1-f9b7-4279-a502-49c6d84084c6",
   "metadata": {},
   "outputs": [
    {
     "data": {
      "text/plain": [
       "array([0, 1, 2, 3, 4, 5, 6, 7, 8, 9])"
      ]
     },
     "execution_count": 10,
     "metadata": {},
     "output_type": "execute_result"
    }
   ],
   "source": [
    "df[\"label\"].unique()"
   ]
  },
  {
   "cell_type": "code",
   "execution_count": 11,
   "id": "40f578a0-4dad-423c-a65d-5bc9b0a84625",
   "metadata": {},
   "outputs": [],
   "source": [
    "number_of_labels = len(df[\"model\"].unique())"
   ]
  },
  {
   "cell_type": "code",
   "execution_count": 12,
   "id": "a81cc7ff-e85f-4085-9341-29bac31b240b",
   "metadata": {},
   "outputs": [
    {
     "data": {
      "text/plain": [
       "10"
      ]
     },
     "execution_count": 12,
     "metadata": {},
     "output_type": "execute_result"
    }
   ],
   "source": [
    "number_of_labels"
   ]
  },
  {
   "cell_type": "code",
   "execution_count": 13,
   "id": "dce11bf4-66aa-473c-b18b-c40ae773d1ed",
   "metadata": {},
   "outputs": [],
   "source": [
    "import torch\n",
    "torch.cuda.empty_cache()"
   ]
  },
  {
   "cell_type": "code",
   "execution_count": 14,
   "id": "fdaece53-17b0-4f61-b71b-848a8052b89c",
   "metadata": {},
   "outputs": [],
   "source": [
    "df = df.dropna()"
   ]
  },
  {
   "cell_type": "code",
   "execution_count": null,
   "id": "39dfbc70-00ba-43df-9020-74e1efa79466",
   "metadata": {},
   "outputs": [],
   "source": []
  },
  {
   "cell_type": "code",
   "execution_count": 15,
   "id": "cf0fcbed-011b-4cf8-919a-6f892298dd1f",
   "metadata": {},
   "outputs": [],
   "source": [
    "train_df = df.sample(frac=0.5, random_state=25)  # 80% for training\n",
    "test_df = df.drop(train_df.index)   \n",
    "dataset = DatasetDict({\n",
    "    'train': Dataset.from_pandas(train_df),\n",
    "    'test': Dataset.from_pandas(test_df)\n",
    "})"
   ]
  },
  {
   "cell_type": "code",
   "execution_count": 16,
   "id": "a14c4d4a-f9db-4289-bba6-31f4771e3e79",
   "metadata": {},
   "outputs": [],
   "source": [
    "# Load tokenizer\n",
    "model_name = \"bert-base-uncased\"\n",
    "tokenizer = AutoTokenizer.from_pretrained(model_name)"
   ]
  },
  {
   "cell_type": "code",
   "execution_count": null,
   "id": "07942dac-6abe-49d9-84e3-80668c65a76d",
   "metadata": {},
   "outputs": [],
   "source": []
  },
  {
   "cell_type": "code",
   "execution_count": 17,
   "id": "ef477217-433c-4188-b251-99ef6512f038",
   "metadata": {},
   "outputs": [
    {
     "data": {
      "text/plain": [
       "'Advantages of Limiting Car Usage \\n\\nLimiting car usage can have a number of advantages for individuals and the community as a whole. The passage set provides evidence of this trend happening in different parts of the world, including Germany, France, and Colombia. In these places, efforts have been made to reduce the dependence on cars and promote alternative modes of transportation. Limiting car usage can lead to a cleaner environment, healthier individuals, and better community planning.\\n\\nOne of the main advantages of limiting car usage is the reduction of greenhouse gas emissions and air pollution. According to the passages, passenger cars are responsible for a significant percentage of greenhouse gas emissions in Europe and some car-intensive areas in the United States. By reducing the number of cars on the road, we can significantly decrease the amount of pollution being released into the environment. This is particularly important in densely populated areas like cities, where air pollution can have severe health consequences for residents.\\n\\nAdditionally, limiting car usage can have positive impacts on individual health. The passage about the car-free day in Bogota, Colombia, mentions that millions of Colombians hiked, biked, skated, or took buses to work on that particular day. Engaging in physical activity like walking or cycling instead of driving can help improve cardiovascular health and overall fitness. It can also reduce the risk of obesity and related diseases.\\n\\nFurthermore, limiting car usage can lead to better community planning and more efficient land use. The passage about Vauban, Germany, describes a community where street parking, driveways, and home garages are forbidden. Instead, emphasis is placed on public transportation and walking. This approach makes it easier for people to access amenities and services on foot and reduces the need for large parking lots and sprawling developments. Compact and walkable communities can promote social interaction, reduce traffic congestion, and improve quality of life.\\n\\nIn conclusion, limiting car usage can have a range of advantages for both individuals and communities. It can help reduce greenhouse gas emissions and air pollution, promote physical activity and better health, and lead to more efficient community planning. As the passages suggest, these efforts are already being implemented in different parts of the world. It is important for individuals to consider alternative modes of transportation and make choices that contribute to a cleaner and healthier future.'"
      ]
     },
     "execution_count": 17,
     "metadata": {},
     "output_type": "execute_result"
    }
   ],
   "source": [
    "df['text'][0]"
   ]
  },
  {
   "cell_type": "code",
   "execution_count": 18,
   "id": "49201e60-a51f-468f-ad49-7dec9d140272",
   "metadata": {},
   "outputs": [
    {
     "data": {
      "application/vnd.jupyter.widget-view+json": {
       "model_id": "bd1c9b868df844ad9862917b2f241ecf",
       "version_major": 2,
       "version_minor": 0
      },
      "text/plain": [
       "Map:   0%|          | 0/27346 [00:00<?, ? examples/s]"
      ]
     },
     "metadata": {},
     "output_type": "display_data"
    },
    {
     "data": {
      "application/vnd.jupyter.widget-view+json": {
       "model_id": "8ab77a60281e4bd58b673c6e0bd3c3b1",
       "version_major": 2,
       "version_minor": 0
      },
      "text/plain": [
       "Map:   0%|          | 0/27345 [00:00<?, ? examples/s]"
      ]
     },
     "metadata": {},
     "output_type": "display_data"
    }
   ],
   "source": [
    "# Tokenize the dataset\n",
    "def tokenize_function(examples):\n",
    "    return tokenizer(examples[\"text\"], padding=\"max_length\", truncation=True)\n",
    "\n",
    "tokenized_datasets = dataset.map(tokenize_function, batched=True)\n"
   ]
  },
  {
   "cell_type": "code",
   "execution_count": 19,
   "id": "a7df5afa-1bdf-4725-86d5-4adc8abf3281",
   "metadata": {},
   "outputs": [],
   "source": [
    "from sklearn.metrics import accuracy_score, precision_recall_fscore_support\n",
    "import numpy as np\n",
    "def compute_metrics(p):\n",
    "    logits, labels = p.predictions, p.label_ids\n",
    "    predictions = logits.argmax(axis=-1)\n",
    "\n",
    "    # Compute the number of correct predictions\n",
    "    correct_predictions = (predictions == labels).sum().item()\n",
    "\n",
    "    # Calculate accuracy\n",
    "    accuracy = correct_predictions / len(labels)\n",
    "\n",
    "    return {\"accuracy\": accuracy}\n",
    "\n"
   ]
  },
  {
   "cell_type": "code",
   "execution_count": 20,
   "id": "64c76ebb-3a7a-4810-b67b-aa372609562e",
   "metadata": {},
   "outputs": [
    {
     "name": "stderr",
     "output_type": "stream",
     "text": [
      "Some weights of BertForSequenceClassification were not initialized from the model checkpoint at bert-base-uncased and are newly initialized: ['classifier.bias', 'classifier.weight']\n",
      "You should probably TRAIN this model on a down-stream task to be able to use it for predictions and inference.\n"
     ]
    }
   ],
   "source": [
    "# Load pre-trained BERT model\n",
    "model = AutoModelForSequenceClassification.from_pretrained(model_name, num_labels=number_of_labels)\n",
    "\n",
    "# Define training arguments\n",
    "training_args = TrainingArguments(\n",
    "    output_dir=\"./results\",\n",
    "    learning_rate=2e-5,\n",
    "    per_device_train_batch_size=8,\n",
    "    per_device_eval_batch_size=8,\n",
    "    num_train_epochs=1,\n",
    "    weight_decay=0.01,\n",
    "    evaluation_strategy=\"epoch\",\n",
    "    fp16=True  # Enable mixed precision training\n",
    ")\n",
    "\n",
    "# Initialize Trainer\n",
    "trainer = Trainer(\n",
    "    model=model,\n",
    "    args=training_args,\n",
    "    train_dataset=tokenized_datasets[\"train\"],\n",
    "    eval_dataset=tokenized_datasets[\"test\"],\n",
    "    compute_metrics=compute_metrics  # Add this line\n",
    ")"
   ]
  },
  {
   "cell_type": "code",
   "execution_count": 21,
   "id": "c75573fb-42f9-49b4-a712-84489629c0ed",
   "metadata": {},
   "outputs": [
    {
     "data": {
      "text/html": [
       "\n",
       "    <div>\n",
       "      \n",
       "      <progress value='3419' max='3419' style='width:300px; height:20px; vertical-align: middle;'></progress>\n",
       "      [3419/3419 22:11, Epoch 1/1]\n",
       "    </div>\n",
       "    <table border=\"1\" class=\"dataframe\">\n",
       "  <thead>\n",
       " <tr style=\"text-align: left;\">\n",
       "      <th>Epoch</th>\n",
       "      <th>Training Loss</th>\n",
       "      <th>Validation Loss</th>\n",
       "      <th>Accuracy</th>\n",
       "    </tr>\n",
       "  </thead>\n",
       "  <tbody>\n",
       "    <tr>\n",
       "      <td>1</td>\n",
       "      <td>0.107000</td>\n",
       "      <td>0.175911</td>\n",
       "      <td>0.953886</td>\n",
       "    </tr>\n",
       "  </tbody>\n",
       "</table><p>"
      ],
      "text/plain": [
       "<IPython.core.display.HTML object>"
      ]
     },
     "metadata": {},
     "output_type": "display_data"
    },
    {
     "name": "stderr",
     "output_type": "stream",
     "text": [
      "Checkpoint destination directory ./results/checkpoint-500 already exists and is non-empty.Saving will proceed but saved results may be invalid.\n",
      "Checkpoint destination directory ./results/checkpoint-1000 already exists and is non-empty.Saving will proceed but saved results may be invalid.\n",
      "Checkpoint destination directory ./results/checkpoint-1500 already exists and is non-empty.Saving will proceed but saved results may be invalid.\n",
      "Checkpoint destination directory ./results/checkpoint-2000 already exists and is non-empty.Saving will proceed but saved results may be invalid.\n",
      "Checkpoint destination directory ./results/checkpoint-2500 already exists and is non-empty.Saving will proceed but saved results may be invalid.\n",
      "Checkpoint destination directory ./results/checkpoint-3000 already exists and is non-empty.Saving will proceed but saved results may be invalid.\n"
     ]
    },
    {
     "data": {
      "text/plain": [
       "TrainOutput(global_step=3419, training_loss=0.2311067327347092, metrics={'train_runtime': 1331.8662, 'train_samples_per_second': 20.532, 'train_steps_per_second': 2.567, 'total_flos': 7195551730397184.0, 'train_loss': 0.2311067327347092, 'epoch': 1.0})"
      ]
     },
     "execution_count": 21,
     "metadata": {},
     "output_type": "execute_result"
    }
   ],
   "source": [
    "# Train the model\n",
    "trainer.train()"
   ]
  },
  {
   "cell_type": "code",
   "execution_count": 22,
   "id": "427523d7-236c-4d3f-a48a-6f20d048469e",
   "metadata": {},
   "outputs": [
    {
     "data": {
      "text/html": [
       "\n",
       "    <div>\n",
       "      \n",
       "      <progress value='3419' max='3419' style='width:300px; height:20px; vertical-align: middle;'></progress>\n",
       "      [3419/3419 04:52]\n",
       "    </div>\n",
       "    "
      ],
      "text/plain": [
       "<IPython.core.display.HTML object>"
      ]
     },
     "metadata": {},
     "output_type": "display_data"
    },
    {
     "name": "stdout",
     "output_type": "stream",
     "text": [
      "{'eval_loss': 0.17591069638729095, 'eval_accuracy': 0.9538855366611813, 'eval_runtime': 292.3087, 'eval_samples_per_second': 93.548, 'eval_steps_per_second': 11.697, 'epoch': 1.0}\n"
     ]
    }
   ],
   "source": [
    "evaluation_results = trainer.evaluate()\n",
    "print(evaluation_results)"
   ]
  },
  {
   "cell_type": "code",
   "execution_count": 23,
   "id": "4998a2fd-9c82-414b-af1d-d260adf93c23",
   "metadata": {},
   "outputs": [
    {
     "data": {
      "text/plain": [
       "('./trained_model_DAIGT/tokenizer_config.json',\n",
       " './trained_model_DAIGT/special_tokens_map.json',\n",
       " './trained_model_DAIGT/vocab.txt',\n",
       " './trained_model_DAIGT/added_tokens.json',\n",
       " './trained_model_DAIGT/tokenizer.json')"
      ]
     },
     "execution_count": 23,
     "metadata": {},
     "output_type": "execute_result"
    }
   ],
   "source": [
    "model_path = \"./trained_model_DAIGT\"\n",
    "model.save_pretrained(model_path)\n",
    "tokenizer.save_pretrained(model_path)"
   ]
  },
  {
   "cell_type": "code",
   "execution_count": 24,
   "id": "d25ba02d-d370-48fd-8539-d92d42df6dc4",
   "metadata": {},
   "outputs": [],
   "source": [
    "from transformers import pipeline\n",
    "\n",
    "# Assuming it's a text classification task. Replace with the task your model is trained for.\n",
    "classifier = pipeline(\"text-classification\", model=model_path, tokenizer=model_path)\n"
   ]
  },
  {
   "cell_type": "code",
   "execution_count": 25,
   "id": "3b5e2933-02c8-4bb5-8a97-437b05c17c19",
   "metadata": {},
   "outputs": [],
   "source": [
    "test_df = test_df[0:1000]"
   ]
  },
  {
   "cell_type": "code",
   "execution_count": 26,
   "id": "0b8b09b9-d449-4f94-9f74-855e5283c87a",
   "metadata": {},
   "outputs": [
    {
     "name": "stderr",
     "output_type": "stream",
     "text": [
      "100%|█████████████████████████████████████████████████████████████████████████████| 1000/1000 [03:07<00:00,  5.33it/s]"
     ]
    },
    {
     "name": "stdout",
     "output_type": "stream",
     "text": [
      "0.939\n"
     ]
    },
    {
     "name": "stderr",
     "output_type": "stream",
     "text": [
      "\n"
     ]
    }
   ],
   "source": [
    "from tqdm import tqdm\n",
    "count = 0 \n",
    "  \n",
    "for row in tqdm(test_df.itertuples(), total=len(test_df)):\n",
    "    message = row.text[0:2300]\n",
    "    label = row.label\n",
    "    result = classifier(message)\n",
    "    if int(result[0]['label'][-1]) == int(label):\n",
    "        count += 1\n",
    "\n",
    "print(count / len(test_df))"
   ]
  },
  {
   "cell_type": "code",
   "execution_count": 27,
   "id": "b45b09cb-eefe-4cbf-bee5-aa3d0a3f5044",
   "metadata": {},
   "outputs": [
    {
     "name": "stdout",
     "output_type": "stream",
     "text": [
      "[{'label': 'LABEL_8', 'score': 0.8691005706787109}]\n"
     ]
    }
   ],
   "source": [
    "result = classifier(\"Hii how are you I've just wrote to you to get my id\")\n",
    "print(result)"
   ]
  },
  {
   "cell_type": "code",
   "execution_count": 28,
   "id": "4eb3c6c5-4cbf-4afe-8eec-b1d8b1054896",
   "metadata": {},
   "outputs": [
    {
     "data": {
      "text/html": [
       "<div>\n",
       "<style scoped>\n",
       "    .dataframe tbody tr th:only-of-type {\n",
       "        vertical-align: middle;\n",
       "    }\n",
       "\n",
       "    .dataframe tbody tr th {\n",
       "        vertical-align: top;\n",
       "    }\n",
       "\n",
       "    .dataframe thead th {\n",
       "        text-align: right;\n",
       "    }\n",
       "</style>\n",
       "<table border=\"1\" class=\"dataframe\">\n",
       "  <thead>\n",
       "    <tr style=\"text-align: right;\">\n",
       "      <th></th>\n",
       "      <th>id</th>\n",
       "      <th>prompt_id</th>\n",
       "      <th>text</th>\n",
       "      <th>generated</th>\n",
       "      <th>model</th>\n",
       "      <th>kaggle_repo</th>\n",
       "      <th>label</th>\n",
       "    </tr>\n",
       "  </thead>\n",
       "  <tbody>\n",
       "    <tr>\n",
       "      <th>0</th>\n",
       "      <td>d429f032</td>\n",
       "      <td>0</td>\n",
       "      <td>Advantages of Limiting Car Usage \\n\\nLimiting ...</td>\n",
       "      <td>1</td>\n",
       "      <td>gpt-3.5-turbo</td>\n",
       "      <td>1</td>\n",
       "      <td>0</td>\n",
       "    </tr>\n",
       "    <tr>\n",
       "      <th>1</th>\n",
       "      <td>1ce279be</td>\n",
       "      <td>0</td>\n",
       "      <td>Advantages of Limiting Car Usage\\n\\nLimiting c...</td>\n",
       "      <td>1</td>\n",
       "      <td>gpt-3.5-turbo</td>\n",
       "      <td>1</td>\n",
       "      <td>0</td>\n",
       "    </tr>\n",
       "    <tr>\n",
       "      <th>2</th>\n",
       "      <td>c9595213</td>\n",
       "      <td>0</td>\n",
       "      <td>Limiting car usage has numerous advantages tha...</td>\n",
       "      <td>1</td>\n",
       "      <td>gpt-3.5-turbo</td>\n",
       "      <td>1</td>\n",
       "      <td>0</td>\n",
       "    </tr>\n",
       "    <tr>\n",
       "      <th>3</th>\n",
       "      <td>f2266d87</td>\n",
       "      <td>0</td>\n",
       "      <td>The passages provided discuss the advantages o...</td>\n",
       "      <td>1</td>\n",
       "      <td>gpt-3.5-turbo</td>\n",
       "      <td>1</td>\n",
       "      <td>0</td>\n",
       "    </tr>\n",
       "    <tr>\n",
       "      <th>4</th>\n",
       "      <td>eeace4bd</td>\n",
       "      <td>0</td>\n",
       "      <td>Title: The Advantages of Limiting Car Usage\\n\\...</td>\n",
       "      <td>1</td>\n",
       "      <td>gpt-3.5-turbo</td>\n",
       "      <td>1</td>\n",
       "      <td>0</td>\n",
       "    </tr>\n",
       "    <tr>\n",
       "      <th>...</th>\n",
       "      <td>...</td>\n",
       "      <td>...</td>\n",
       "      <td>...</td>\n",
       "      <td>...</td>\n",
       "      <td>...</td>\n",
       "      <td>...</td>\n",
       "      <td>...</td>\n",
       "    </tr>\n",
       "    <tr>\n",
       "      <th>54686</th>\n",
       "      <td>df8bf6e6-eca4-417c-bce2-b3b90d782d93</td>\n",
       "      <td>-1</td>\n",
       "      <td>I believe using cellphones in class for educat...</td>\n",
       "      <td>0</td>\n",
       "      <td>human</td>\n",
       "      <td>9</td>\n",
       "      <td>8</td>\n",
       "    </tr>\n",
       "    <tr>\n",
       "      <th>54687</th>\n",
       "      <td>502c11ac-7d0a-4b11-8572-5f7317364bc7</td>\n",
       "      <td>-1</td>\n",
       "      <td>Working alone, students do not have to argue w...</td>\n",
       "      <td>0</td>\n",
       "      <td>human</td>\n",
       "      <td>9</td>\n",
       "      <td>8</td>\n",
       "    </tr>\n",
       "    <tr>\n",
       "      <th>54688</th>\n",
       "      <td>993f33f3-0cfa-4b5a-b382-bdf7f82e2666</td>\n",
       "      <td>-1</td>\n",
       "      <td>\"A problem is a chance for you to do your best...</td>\n",
       "      <td>0</td>\n",
       "      <td>human</td>\n",
       "      <td>9</td>\n",
       "      <td>8</td>\n",
       "    </tr>\n",
       "    <tr>\n",
       "      <th>54689</th>\n",
       "      <td>0f9f0196-4828-4122-b0cb-aea2373066fb</td>\n",
       "      <td>-1</td>\n",
       "      <td>Many people disagree with Albert Schweitzer's ...</td>\n",
       "      <td>0</td>\n",
       "      <td>human</td>\n",
       "      <td>9</td>\n",
       "      <td>8</td>\n",
       "    </tr>\n",
       "    <tr>\n",
       "      <th>54690</th>\n",
       "      <td>75bb5685-f6ca-43d0-9364-bfa3d5977eab</td>\n",
       "      <td>-1</td>\n",
       "      <td>Do you think that failure is the main thing fo...</td>\n",
       "      <td>0</td>\n",
       "      <td>human</td>\n",
       "      <td>9</td>\n",
       "      <td>8</td>\n",
       "    </tr>\n",
       "  </tbody>\n",
       "</table>\n",
       "<p>54691 rows × 7 columns</p>\n",
       "</div>"
      ],
      "text/plain": [
       "                                         id prompt_id  \\\n",
       "0                                  d429f032         0   \n",
       "1                                  1ce279be         0   \n",
       "2                                  c9595213         0   \n",
       "3                                  f2266d87         0   \n",
       "4                                  eeace4bd         0   \n",
       "...                                     ...       ...   \n",
       "54686  df8bf6e6-eca4-417c-bce2-b3b90d782d93        -1   \n",
       "54687  502c11ac-7d0a-4b11-8572-5f7317364bc7        -1   \n",
       "54688  993f33f3-0cfa-4b5a-b382-bdf7f82e2666        -1   \n",
       "54689  0f9f0196-4828-4122-b0cb-aea2373066fb        -1   \n",
       "54690  75bb5685-f6ca-43d0-9364-bfa3d5977eab        -1   \n",
       "\n",
       "                                                    text  generated  \\\n",
       "0      Advantages of Limiting Car Usage \\n\\nLimiting ...          1   \n",
       "1      Advantages of Limiting Car Usage\\n\\nLimiting c...          1   \n",
       "2      Limiting car usage has numerous advantages tha...          1   \n",
       "3      The passages provided discuss the advantages o...          1   \n",
       "4      Title: The Advantages of Limiting Car Usage\\n\\...          1   \n",
       "...                                                  ...        ...   \n",
       "54686  I believe using cellphones in class for educat...          0   \n",
       "54687  Working alone, students do not have to argue w...          0   \n",
       "54688  \"A problem is a chance for you to do your best...          0   \n",
       "54689  Many people disagree with Albert Schweitzer's ...          0   \n",
       "54690  Do you think that failure is the main thing fo...          0   \n",
       "\n",
       "               model  kaggle_repo  label  \n",
       "0      gpt-3.5-turbo            1      0  \n",
       "1      gpt-3.5-turbo            1      0  \n",
       "2      gpt-3.5-turbo            1      0  \n",
       "3      gpt-3.5-turbo            1      0  \n",
       "4      gpt-3.5-turbo            1      0  \n",
       "...              ...          ...    ...  \n",
       "54686          human            9      8  \n",
       "54687          human            9      8  \n",
       "54688          human            9      8  \n",
       "54689          human            9      8  \n",
       "54690          human            9      8  \n",
       "\n",
       "[54691 rows x 7 columns]"
      ]
     },
     "execution_count": 28,
     "metadata": {},
     "output_type": "execute_result"
    }
   ],
   "source": [
    "df"
   ]
  },
  {
   "cell_type": "code",
   "execution_count": null,
   "id": "ac6b358a-29f7-4931-9bd0-f1df8a1174cf",
   "metadata": {},
   "outputs": [],
   "source": []
  }
 ],
 "metadata": {
  "kernelspec": {
   "display_name": "Python (myenv)",
   "language": "python",
   "name": "myenv"
  },
  "language_info": {
   "codemirror_mode": {
    "name": "ipython",
    "version": 3
   },
   "file_extension": ".py",
   "mimetype": "text/x-python",
   "name": "python",
   "nbconvert_exporter": "python",
   "pygments_lexer": "ipython3",
   "version": "3.10.12"
  }
 },
 "nbformat": 4,
 "nbformat_minor": 5
}
